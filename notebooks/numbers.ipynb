{
 "cells": [
  {
   "cell_type": "code",
   "execution_count": 1,
   "metadata": {},
   "outputs": [
    {
     "data": {
      "text/plain": [
       "True"
      ]
     },
     "execution_count": 1,
     "metadata": {},
     "output_type": "execute_result"
    }
   ],
   "source": [
    "import os\n",
    "import numpy as np\n",
    "import pandas as pd\n",
    "import matplotlib.pyplot as plt\n",
    "import seaborn as sns\n",
    "\n",
    " # Load environment variables\n",
    "from dotenv import load_dotenv\n",
    "load_dotenv()"
   ]
  },
  {
   "cell_type": "code",
   "execution_count": 2,
   "metadata": {},
   "outputs": [],
   "source": [
    "\n",
    "# Setup paths\n",
    "base_dir = os.getenv(\"BASE_DIR\")\n",
    "scratch_dir = os.getenv(\"SCRATCH_DIR\")\n",
    "\n",
    "behav_dir = os.path.join(base_dir, \"data\", \"behav\")"
   ]
  },
  {
   "cell_type": "markdown",
   "metadata": {},
   "source": [
    "## Behavior data"
   ]
  },
  {
   "cell_type": "code",
   "execution_count": 3,
   "metadata": {},
   "outputs": [],
   "source": [
    "\n",
    "df_2a = pd.read_csv(os.path.join(behav_dir, \"prettymouth2a.csv\"))\n",
    "df_2b = pd.read_csv(os.path.join(behav_dir, \"prettymouth2b.csv\"))\n",
    "df_2_postsurvey = pd.read_csv(os.path.join(behav_dir, \"prettymouth2_postsurvey.csv\")).iloc[2:]\n",
    "\n",
    "df_2a_response = df_2a.dropna(subset=[\"key_resp_2.rt\"])\n",
    "df_2b_response = df_2b.dropna(subset=[\"key_resp_2.rt\"])\n",
    "\n",
    "common_participants_2a = set(df_2a_response[\"participant\"]).intersection(df_2_postsurvey[\"participant\"])\n",
    "common_participants_2b = set(df_2b_response[\"participant\"]).intersection(df_2_postsurvey[\"participant\"])\n",
    "\n",
    "survey_df = df_2_postsurvey[df_2_postsurvey[\"participant\"].isin(common_participants_2a.union(common_participants_2b))]\n"
   ]
  },
  {
   "cell_type": "code",
   "execution_count": 4,
   "metadata": {},
   "outputs": [
    {
     "data": {
      "text/plain": [
       "(63, 59)"
      ]
     },
     "execution_count": 4,
     "metadata": {},
     "output_type": "execute_result"
    }
   ],
   "source": [
    "len(common_participants_2a), len(common_participants_2b)"
   ]
  },
  {
   "cell_type": "code",
   "execution_count": 5,
   "metadata": {},
   "outputs": [
    {
     "data": {
      "text/plain": [
       "gender\n",
       "Male                         62\n",
       "Female                       57\n",
       "Non-binary / third gender     3\n",
       "Name: count, dtype: int64"
      ]
     },
     "execution_count": 5,
     "metadata": {},
     "output_type": "execute_result"
    }
   ],
   "source": [
    "survey_df['gender'].value_counts()"
   ]
  },
  {
   "cell_type": "code",
   "execution_count": 6,
   "metadata": {},
   "outputs": [
    {
     "data": {
      "text/plain": [
       "age\n",
       "25-34 years old    46\n",
       "35-44 years old    29\n",
       "18-24 years old    18\n",
       "55-64 years old    14\n",
       "45-54 years old    12\n",
       "65+ years old       3\n",
       "Name: count, dtype: int64"
      ]
     },
     "execution_count": 6,
     "metadata": {},
     "output_type": "execute_result"
    }
   ],
   "source": [
    "survey_df['age'].value_counts()"
   ]
  }
 ],
 "metadata": {
  "kernelspec": {
   "display_name": "Python 3",
   "language": "python",
   "name": "python3"
  },
  "language_info": {
   "codemirror_mode": {
    "name": "ipython",
    "version": 3
   },
   "file_extension": ".py",
   "mimetype": "text/x-python",
   "name": "python",
   "nbconvert_exporter": "python",
   "pygments_lexer": "ipython3",
   "version": "3.11.11"
  }
 },
 "nbformat": 4,
 "nbformat_minor": 2
}
